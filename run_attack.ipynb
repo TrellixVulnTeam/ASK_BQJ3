{
 "cells": [
  {
   "cell_type": "code",
   "execution_count": 1,
   "metadata": {},
   "outputs": [],
   "source": [
    "import torch\n",
    "from ask_attack import ASKAttack\n",
    "from dknn import DKNN\n",
    "from models.vgg import VGG16\n",
    "from data_utils import get_dataloaders\n",
    "\n",
    "device = torch.device(\"cuda\" if torch.cuda.is_available() else \"cpu\")"
   ]
  },
  {
   "cell_type": "markdown",
   "metadata": {},
   "source": [
    "# ASK attack on CIFAR-10"
   ]
  },
  {
   "cell_type": "markdown",
   "metadata": {},
   "source": [
    "## Adversarial trained model"
   ]
  },
  {
   "cell_type": "code",
   "execution_count": 2,
   "metadata": {},
   "outputs": [
    {
     "name": "stderr",
     "output_type": "stream",
     "text": [
      "100%|██████████| 1/1 [00:08<00:00,  8.61s/it]\n"
     ]
    }
   ],
   "source": [
    "model = VGG16()\n",
    "model.load_state_dict(torch.load(\"./checkpoints/cifar10_vgg16_at.pt\"))\n",
    "model.to(device)\n",
    "model.eval()\n",
    "\n",
    "trainloader, testloader = get_dataloaders(\n",
    "    \"cifar10\",\n",
    "    root=\"./datasets\",\n",
    "    batch_size=1000,\n",
    "    download=False,\n",
    "    augmentation=False,\n",
    "    train_shuffle=False,\n",
    "    num_workers=1\n",
    ")\n",
    "\n",
    "train_data, train_targets = [], []\n",
    "for x, y in trainloader:\n",
    "    train_data.append(x)\n",
    "    train_targets.append(y)\n",
    "train_data = torch.cat(train_data, dim=0)\n",
    "train_targets = torch.cat(train_targets)\n",
    "\n",
    "ask_attack = ASKAttack(\n",
    "    model,\n",
    "    train_data,\n",
    "    train_targets,\n",
    "    max_iter=20,\n",
    "    temperature=0.03,\n",
    "    hidden_layers=[3, ],\n",
    "    class_samp_size=2000,\n",
    "    metric=\"cosine\",\n",
    "    random_seed=3,\n",
    "    device=device\n",
    ")\n",
    "dknn = DKNN(\n",
    "    model,\n",
    "    torch.cat(ask_attack.train_data, dim=0),\n",
    "    torch.arange(ask_attack.n_class).repeat_interleave(ask_attack.class_samp_size),\n",
    "    hidden_layers=ask_attack.hidden_layers,\n",
    "    metric=ask_attack.metric,\n",
    "    device=device\n",
    ")"
   ]
  },
  {
   "cell_type": "code",
   "execution_count": 3,
   "metadata": {},
   "outputs": [
    {
     "name": "stdout",
     "output_type": "stream",
     "text": [
      "Clean accuracy of DkNN is 0.825\n",
      "Adversarial accuracy of DkNN is 0.376\n"
     ]
    }
   ],
   "source": [
    "x_batch, y_batch = [], []\n",
    "batch_count = 5\n",
    "for i,(x,y) in enumerate(testloader):\n",
    "    if i == batch_count:\n",
    "        break\n",
    "    x_batch.append(x)\n",
    "    y_batch.append(y)\n",
    "x_batch = torch.cat(x_batch, dim=0)\n",
    "y_batch = torch.cat(y_batch)\n",
    "\n",
    "pred_dknn_clean = dknn.predict(x_batch)\n",
    "print(\"Clean accuracy of DkNN is {}\".format(\n",
    "    (pred_dknn_clean.argmax(axis=1) == y_batch.numpy()).astype(\"float\").mean()\n",
    "))\n",
    "x_adv = ask_attack.generate(x_batch, y_batch)\n",
    "pred_dknn_adv = dknn.predict(x_adv)\n",
    "print(\"Adversarial accuracy of DkNN is {}\".format(\n",
    "    (pred_dknn_adv.argmax(axis=1) == y_batch.numpy()).astype(\"float\").mean()\n",
    "))"
   ]
  },
  {
   "cell_type": "markdown",
   "metadata": {},
   "source": [
    "# Ask defense"
   ]
  },
  {
   "cell_type": "code",
   "execution_count": 4,
   "metadata": {},
   "outputs": [
    {
     "name": "stderr",
     "output_type": "stream",
     "text": [
      "100%|██████████| 1/1 [00:09<00:00,  9.61s/it]\n"
     ]
    },
    {
     "name": "stdout",
     "output_type": "stream",
     "text": [
      "Clean accuracy of DkNN is 0.8624\n",
      "Adversarial accuracy of DkNN is 0.4416\n"
     ]
    }
   ],
   "source": [
    "model = VGG16()\n",
    "model.load_state_dict(torch.load(\"./checkpoints/cifar10_vgg16_askdef.pt\"))\n",
    "model.to(device)\n",
    "model.eval()\n",
    "\n",
    "train_data, train_targets = [], []\n",
    "for x, y in trainloader:\n",
    "    train_data.append(x)\n",
    "    train_targets.append(y)\n",
    "train_data = torch.cat(train_data, dim=0)\n",
    "train_targets = torch.cat(train_targets)\n",
    "\n",
    "ask_attack = ASKAttack(\n",
    "    model,\n",
    "    train_data,\n",
    "    train_targets,\n",
    "    max_iter=20,\n",
    "    hidden_layers=[3, ],\n",
    "    class_samp_size=2000,\n",
    "    metric=\"cosine\",\n",
    "    random_seed=3,\n",
    "    device=device\n",
    ")\n",
    "dknn = DKNN(\n",
    "    model,\n",
    "    torch.cat(ask_attack.train_data, dim=0),\n",
    "    torch.arange(ask_attack.n_class).repeat_interleave(ask_attack.class_samp_size),\n",
    "    hidden_layers=ask_attack.hidden_layers,\n",
    "    metric=ask_attack.metric,\n",
    "    device=device\n",
    ")\n",
    "\n",
    "pred_dknn_clean = dknn.predict(x_batch)\n",
    "print(\"Clean accuracy of DkNN is {}\".format(\n",
    "    (pred_dknn_clean.argmax(axis=1) == y_batch.numpy()).astype(\"float\").mean()\n",
    "))\n",
    "x_adv = ask_attack.generate(x_batch, y_batch)\n",
    "pred_dknn_adv = dknn.predict(x_adv)\n",
    "print(\"Adversarial accuracy of DkNN is {}\".format(\n",
    "    (pred_dknn_adv.argmax(axis=1) == y_batch.numpy()).astype(\"float\").mean()\n",
    "))"
   ]
  }
 ],
 "metadata": {
  "kernelspec": {
   "display_name": "Python 3",
   "language": "python",
   "name": "python3"
  },
  "language_info": {
   "codemirror_mode": {
    "name": "ipython",
    "version": 3
   },
   "file_extension": ".py",
   "mimetype": "text/x-python",
   "name": "python",
   "nbconvert_exporter": "python",
   "pygments_lexer": "ipython3",
   "version": "3.7.6"
  }
 },
 "nbformat": 4,
 "nbformat_minor": 4
}
